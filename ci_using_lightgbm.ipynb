{
  "nbformat": 4,
  "nbformat_minor": 0,
  "metadata": {
    "colab": {
      "provenance": [],
      "mount_file_id": "1eKzeuVunNk_G7If3fW_DVZN_YlqpADQD",
      "authorship_tag": "ABX9TyM5cnj1iJ+c2TCvY6s9+0+v",
      "include_colab_link": true
    },
    "kernelspec": {
      "name": "python3",
      "display_name": "Python 3"
    },
    "language_info": {
      "name": "python"
    }
  },
  "cells": [
    {
      "cell_type": "markdown",
      "metadata": {
        "id": "view-in-github",
        "colab_type": "text"
      },
      "source": [
        "<a href=\"https://colab.research.google.com/github/DimuthuPHD/api/blob/main/ci_using_lightgbm.ipynb\" target=\"_parent\"><img src=\"https://colab.research.google.com/assets/colab-badge.svg\" alt=\"Open In Colab\"/></a>"
      ]
    },
    {
      "cell_type": "code",
      "execution_count": null,
      "metadata": {
        "id": "AvzOS1DT6iS4"
      },
      "outputs": [],
      "source": [
        "import pandas as pd\n",
        "import numpy as np\n",
        "import joblib\n",
        "import lightgbm as lgb\n",
        "from sklearn.model_selection import train_test_split\n",
        "from sklearn.metrics import mean_squared_error"
      ]
    },
    {
      "cell_type": "code",
      "source": [
        "\n",
        "# Load Data\n",
        "train = pd.read_csv(\"/content/drive/MyDrive/ICBT/Collab/CI/train.csv\")\n",
        "test = pd.read_csv(\"/content/drive/MyDrive/ICBT/Collab/CI/test.csv\")\n",
        "oil = pd.read_csv(\"/content/drive/MyDrive/ICBT/Collab/CI/oil.csv\")\n",
        "stores = pd.read_csv(\"/content/drive/MyDrive/ICBT/Collab/CI/stores.csv\")\n",
        "transactions = pd.read_csv(\"/content/drive/MyDrive/ICBT/Collab/CI/transactions.csv\")\n",
        "holidays = pd.read_csv(\"/content/drive/MyDrive/ICBT/Collab/CI/holidays_events.csv\")"
      ],
      "metadata": {
        "id": "2afSLw3L6rUr"
      },
      "execution_count": 28,
      "outputs": []
    },
    {
      "cell_type": "code",
      "source": [
        "# Feature Engineering\n",
        "train['test'] = 0\n",
        "test['test'] = 1\n",
        "data = pd.concat([train, test], axis=0)\n",
        "\n",
        "data = data.merge(holidays, on='date', how='left')\n",
        "data = data.merge(stores, on='store_nbr', how='left')\n",
        "data = data.merge(oil, on='date', how='left')\n",
        "data = data.merge(transactions, on=['date', 'store_nbr'], how='left')\n",
        "data = data.set_index(['store_nbr', 'date', 'family']).drop(index='2013-01-01', level=1)\n",
        "\n",
        "data_ = data.reset_index()\n",
        "\n",
        "# Ensure 'date' column is in datetime format\n",
        "data_['date'] = pd.to_datetime(data_['date'])\n",
        "\n",
        "# Extract Date Features\n",
        "date_features = ['day', 'month', 'year']\n",
        "for feature in date_features:\n",
        "    data_[feature] = data_['date'].dt.__getattribute__(feature)\n",
        "\n",
        "# Encoding Categorical Variables\n",
        "categorical_cols = [ 'store_nbr', 'type_y', 'cluster', 'family', 'onpromotion', 'type_x',\n",
        "                    'locale', 'locale_name', 'city', 'state' , 'day', 'month', 'year']\n",
        "for col in categorical_cols:\n",
        "    data_[col] = data_[col].astype('category')\n",
        "\n",
        "data_ = data_.drop(['date', 'description', 'transferred', 'type_x', 'locale', 'locale_name', 'city', 'state', 'transactions'], axis=1)"
      ],
      "metadata": {
        "id": "1c180nTZ6ttY"
      },
      "execution_count": 114,
      "outputs": []
    },
    {
      "cell_type": "code",
      "source": [
        "# Prepare Train/Test Data\n",
        "train_data = data_[data_['test'] == 0]\n",
        "test_data = data_[data_['test'] == 1]\n",
        "\n",
        "X_train = train_data.drop(['test', 'sales', 'id'], axis=1)\n",
        "y_train = train_data['sales']\n",
        "X_test = test_data.drop(['test', 'sales', 'id'], axis=1)\n",
        "X_train.columns"
      ],
      "metadata": {
        "id": "GfHso40j6xzJ",
        "colab": {
          "base_uri": "https://localhost:8080/"
        },
        "outputId": "6d861730-0480-47c8-9e66-73c991485ccc"
      },
      "execution_count": 111,
      "outputs": [
        {
          "output_type": "execute_result",
          "data": {
            "text/plain": [
              "Index(['store_nbr', 'family', 'onpromotion', 'type_y', 'cluster',\n",
              "       'dcoilwtico'],\n",
              "      dtype='object')"
            ]
          },
          "metadata": {},
          "execution_count": 111
        }
      ]
    },
    {
      "cell_type": "code",
      "source": [
        "# Train Model\n",
        "\n",
        "# LightGBM Parameters\n",
        "lgb_params = {\n",
        "    'objective': 'regression',\n",
        "    'metric': 'rmse',\n",
        "    'num_leaves': 31,\n",
        "    'learning_rate': 0.05,\n",
        "    'feature_fraction': 0.9,\n",
        "    'bagging_fraction': 0.8,\n",
        "    'bagging_freq': 5,\n",
        "    'verbose': 0\n",
        "}\n",
        "lgb_train = lgb.Dataset(X_train, y_train)\n",
        "gbm = lgb.train(lgb_params, lgb_train, num_boost_round=100)"
      ],
      "metadata": {
        "id": "ABKebyz860Il"
      },
      "execution_count": 112,
      "outputs": []
    },
    {
      "cell_type": "code",
      "source": [
        "# Make Predictions\n",
        "y_pred = gbm.predict(X_test, num_iteration=gbm.best_iteration)"
      ],
      "metadata": {
        "id": "WGoeelpz63eD"
      },
      "execution_count": 96,
      "outputs": []
    },
    {
      "cell_type": "code",
      "source": [
        "# Post-processing\n",
        "output = pd.DataFrame(index=test_data['id'])\n",
        "output['sales'] = y_pred.clip(0)"
      ],
      "metadata": {
        "id": "30YPehHS65EP"
      },
      "execution_count": 97,
      "outputs": []
    },
    {
      "cell_type": "code",
      "source": [
        "# Save Predictions\n",
        "output.to_csv('submission.csv')\n",
        "joblib.dump(gbm, 'model.pkl')"
      ],
      "metadata": {
        "colab": {
          "base_uri": "https://localhost:8080/"
        },
        "id": "diOducQf67NQ",
        "outputId": "0fa11ef2-21da-43d7-e8ce-45d0a5b51800"
      },
      "execution_count": 108,
      "outputs": [
        {
          "output_type": "execute_result",
          "data": {
            "text/plain": [
              "['model.pkl']"
            ]
          },
          "metadata": {},
          "execution_count": 108
        }
      ]
    }
  ]
}